{
 "cells": [
  {
   "cell_type": "markdown",
   "metadata": {},
   "source": [
    "## GA3C-CADRL\n",
    "#### GPU/CPU Asynchronous Advantage Actor-Critic for Collision Avoidance with Deep Reinforcement Learning\n",
    "Michael Everett, Yu Fan Chen, and Jonathan P. How<br>\n",
    "Manuscript submitted to 2018 IEEE/RSJ International Conference on Intelligent Robots and Systems (IROS)"
   ]
  },
  {
   "cell_type": "markdown",
   "metadata": {},
   "source": [
    "**Objective:** This goal of this notebook is to explain how to use our code, enabling other researchers to test and compare against the results presented in the paper. After reading this notebook, it should also be clear how our code could be implemented on your own system (i.e. what format you should provide as input, and what information you'll get as output)"
   ]
  },
  {
   "cell_type": "markdown",
   "metadata": {},
   "source": [
    "## Create an instance of an Agent\n",
    "The most important class is Agent, which has attributes such as radius and position, and methods such as find_next_action. The environment is made up of several Agents."
   ]
  },
  {
   "cell_type": "code",
   "execution_count": 8,
   "metadata": {},
   "outputs": [],
   "source": [
    "import agent\n",
    "import network\n",
    "import util\n",
    "import numpy as np\n",
    "np.random.seed(0)"
   ]
  },
  {
   "cell_type": "markdown",
   "metadata": {},
   "source": [
    "### Load trained network"
   ]
  },
  {
   "cell_type": "code",
   "execution_count": 2,
   "metadata": {},
   "outputs": [
    {
     "name": "stdout",
     "output_type": "stream",
     "text": [
      "INFO:tensorflow:Scale of 0 disables regularizer.\n",
      "INFO:tensorflow:Restoring parameters from ../checkpoints/network_01900000\n"
     ]
    }
   ],
   "source": [
    "possible_actions = network.Actions()\n",
    "num_actions = possible_actions.num_actions\n",
    "nn = network.NetworkVP_rnn(network.Config.DEVICE, 'network', num_actions)\n",
    "nn.simple_load('../checkpoints/network_01900000')"
   ]
  },
  {
   "cell_type": "code",
   "execution_count": 3,
   "metadata": {},
   "outputs": [],
   "source": [
    "STEP = 30"
   ]
  },
  {
   "cell_type": "code",
   "execution_count": 4,
   "metadata": {},
   "outputs": [],
   "source": [
    "paths = np.load('../src/all_not_ext_paths_with_ids.npy')\n",
    "ped_time = (paths[:, 1] / 20).astype(int)\n",
    "ped_col = (paths[:, 2] / STEP).astype(int)\n",
    "ped_row = (paths[:, 3] / STEP).astype(int)"
   ]
  },
  {
   "cell_type": "code",
   "execution_count": 6,
   "metadata": {},
   "outputs": [],
   "source": [
    "grid = np.load('../grid_with_static_obstacles.npy')"
   ]
  },
  {
   "cell_type": "code",
   "execution_count": 10,
   "metadata": {},
   "outputs": [],
   "source": [
    "gen_paths = np.load('../src/gen_paths.npy')"
   ]
  },
  {
   "cell_type": "code",
   "execution_count": 64,
   "metadata": {},
   "outputs": [],
   "source": [
    "max_row, max_col = np.array(grid.shape)"
   ]
  },
  {
   "cell_type": "code",
   "execution_count": 65,
   "metadata": {},
   "outputs": [],
   "source": [
    "boundaries = np.array(\n",
    "    [(i, j) for i in range(-2, 0) for j in range(-2, max_col + 2)] + \\\n",
    "    [(i, j) for i in range(max_row, max_row + 2) for j in range(-2, max_col + 2)] + \\\n",
    "    [(i, j) for i in range(-2, max_row + 2) for j in range(-2, 0)] + \\\n",
    "    [(i, j) for i in range(-2, max_row + 2) for j in range(max_col, max_col + 2)]\n",
    ")"
   ]
  },
  {
   "cell_type": "code",
   "execution_count": 151,
   "metadata": {},
   "outputs": [],
   "source": [
    "class Robot:\n",
    "    def __init__(self, grid=grid, ped_time=ped_time, ped_col=ped_col, ped_row=ped_row, boundaries=boundaries):\n",
    "        self.grid = grid\n",
    "        self.ped_time = ped_time\n",
    "        self.ped_col = ped_col\n",
    "        self.ped_row = ped_row\n",
    "        self.collisions = 0\n",
    "        self.boundaries = boundaries\n",
    "        self.trace = []\n",
    "            \n",
    "    def neighbor_cells(self, i, j, r):\n",
    "        i, j = int(i), int(j)\n",
    "        res = [(x, j-r) for x in range(i-r, i+r+1)] + [(x, j+r) for x in range(i-r, i+r+1)]\n",
    "        res += [(i-r, y) for y in range(j-r+1, j+r)] + [(i+r, y) for y in range(j-r+1, j+r)]\n",
    "        return res\n",
    "    \n",
    "    def check_cell(self, time, row, col):\n",
    "        t = self.ped_time == time\n",
    "        ped_row_time = self.ped_row[t]\n",
    "        ped_col_time = self.ped_col[t]\n",
    "        ind = (ped_row_time == row) * (ped_col_time == col)\n",
    "        return ind.any()\n",
    "    \n",
    "    def get_obstacles(self, time, row, col):\n",
    "        obstacles = []\n",
    "        neighbors = self.neighbor_cells(row, col, 1)\n",
    "        for x, y in neighbors:\n",
    "            if x < grid.shape[0] and y < grid.shape[1]:\n",
    "                if self.grid[x, y] or self.check_cell(time, x, y):\n",
    "                    obstacles.append(agent.Agent(x, y, x+5, y+5, 0.49, 0, 0, i+1))\n",
    "        for x, y in self.boundaries:\n",
    "            obstacles.append(agent.Agent(x, y, x+5, y+5, 0.49, 0, 0, i+1))\n",
    "            \n",
    "        return obstacles\n",
    "        \n",
    "    def get_path(self, start_time, row_start, col_start, row_goal, col_goal):\n",
    "        self.collisions = 0\n",
    "        self.obstacles = []\n",
    "        \n",
    "        time = start_time\n",
    "        \n",
    "        self.trace = []\n",
    "\n",
    "        row_cur, col_cur = row_start, col_start\n",
    "\n",
    "        other_agents = []\n",
    "\n",
    "        host_agent = agent.Agent(row_cur, col_cur, row_goal, col_goal, 0.49, 1.4, 0, 0)\n",
    "        host_agent.vel_global_frame = np.array([0, 0])\n",
    "\n",
    "        while np.abs(row_cur - row_goal) > 0.4 or np.abs(col_cur - col_goal) > 0.4:\n",
    "\n",
    "            if self.check_cell(time, np.round(row_cur), np.round(col_cur)):\n",
    "                self.collisions += 1\n",
    "            \n",
    "            other_agents = self.get_obstacles(time, row_cur, col_cur)\n",
    "\n",
    "            obs = host_agent.observe(other_agents)[1:]\n",
    "            obs = np.expand_dims(obs, axis=0)\n",
    "\n",
    "            predictions = nn.predict_p(obs, None)[0]\n",
    "            raw_action = possible_actions.actions[np.argmax(predictions)]\n",
    "\n",
    "            host_agent.update_state(raw_action, 1)\n",
    "            host_agent.pos_global_frame = np.round(host_agent.pos_global_frame)\n",
    "            row_cur, col_cur = host_agent.pos_global_frame\n",
    "            self.trace.append([row_cur, col_cur])\n",
    "\n",
    "            time += 1\n",
    "            \n",
    "            if time - start_time > 200 \\\n",
    "                    or row_cur >= self.grid.shape[0] or row_cur < 0 \\\n",
    "                    or col_cur >= self.grid.shape[1] or col_cur < 0:\n",
    "                return None\n",
    "                \n",
    "        return self.trace"
   ]
  },
  {
   "cell_type": "code",
   "execution_count": 152,
   "metadata": {},
   "outputs": [],
   "source": [
    "robot = Robot()"
   ]
  },
  {
   "cell_type": "code",
   "execution_count": 171,
   "metadata": {},
   "outputs": [
    {
     "name": "stdout",
     "output_type": "stream",
     "text": [
      "0\n",
      "10\n",
      "20\n",
      "40\n",
      "50\n",
      "70\n",
      "80\n",
      "100\n",
      "120\n",
      "130\n",
      "140\n",
      "150\n",
      "160\n",
      "170\n",
      "180\n",
      "190\n",
      "200\n",
      "210\n",
      "220\n",
      "230\n",
      "240\n",
      "270\n",
      "280\n",
      "290\n",
      "310\n",
      "320\n",
      "330\n",
      "339\n",
      "340\n",
      "350\n",
      "360\n",
      "370\n",
      "380\n",
      "400\n",
      "410\n",
      "420\n",
      "430\n",
      "440\n",
      "450\n",
      "460\n",
      "490\n",
      "500\n",
      "520\n",
      "530\n",
      "550\n",
      "560\n",
      "560\n",
      "580\n",
      "590\n",
      "600\n",
      "610\n",
      "620\n",
      "640\n",
      "650\n",
      "660\n",
      "670\n",
      "690\n",
      "700\n",
      "710\n",
      "720\n",
      "740\n",
      "750\n",
      "760\n",
      "770\n",
      "780\n",
      "790\n",
      "800\n",
      "810\n",
      "820\n",
      "830\n",
      "840\n",
      "850\n",
      "860\n",
      "870\n",
      "880\n",
      "890\n",
      "900\n",
      "910\n",
      "920\n",
      "930\n",
      "940\n",
      "950\n",
      "960\n",
      "970\n"
     ]
    }
   ],
   "source": [
    "paths = []\n",
    "delays = []\n",
    "collisions = []\n",
    "\n",
    "for i, (start_time, row_start, col_start, row_goal, col_goal, opt_time) in enumerate(gen_paths):\n",
    "\n",
    "    if i in fails:\n",
    "        paths.append(None)\n",
    "        collisions.append(0)\n",
    "        continue\n",
    "    \n",
    "    result = robot.get_path(start_time, row_start, col_start, row_goal, col_goal)\n",
    "    \n",
    "    if result is None:\n",
    "        paths.append(None)\n",
    "        collisions.append(0)\n",
    "        print(i, \" fail\")\n",
    "        continue\n",
    "    \n",
    "    paths.append(result)\n",
    "    collisions.append(robot.collisions)\n",
    "    if opt_time == 0:\n",
    "        delays.append(1)\n",
    "        print(i)\n",
    "    else:\n",
    "        delays.append(1. * len(result) / opt_time)\n",
    "    \n",
    "    if i % 10 == 0:\n",
    "        print(i)"
   ]
  },
  {
   "cell_type": "code",
   "execution_count": 172,
   "metadata": {},
   "outputs": [
    {
     "name": "stdout",
     "output_type": "stream",
     "text": [
      "410\n"
     ]
    }
   ],
   "source": [
    "collisions = np.array(collisions)\n",
    "print(collisions.sum())\n",
    "np.save('net019_round_speed1.4/collisions', collisions)"
   ]
  },
  {
   "cell_type": "code",
   "execution_count": 176,
   "metadata": {},
   "outputs": [
    {
     "name": "stdout",
     "output_type": "stream",
     "text": [
      "2.329641857605303\n"
     ]
    }
   ],
   "source": [
    "delays = np.array(delays)\n",
    "print(delays.mean())\n",
    "np.save('net019_round_speed1.4/delays', delays)"
   ]
  },
  {
   "cell_type": "code",
   "execution_count": 190,
   "metadata": {},
   "outputs": [
    {
     "data": {
      "text/plain": [
       "1.575057875621655"
      ]
     },
     "execution_count": 190,
     "metadata": {},
     "output_type": "execute_result"
    }
   ],
   "source": [
    "delays[delays < 7].mean()"
   ]
  },
  {
   "cell_type": "code",
   "execution_count": null,
   "metadata": {},
   "outputs": [],
   "source": []
  }
 ],
 "metadata": {
  "kernelspec": {
   "display_name": "Python 2",
   "language": "python",
   "name": "python2"
  },
  "language_info": {
   "codemirror_mode": {
    "name": "ipython",
    "version": 3
   },
   "file_extension": ".py",
   "mimetype": "text/x-python",
   "name": "python",
   "nbconvert_exporter": "python",
   "pygments_lexer": "ipython3",
   "version": "3.6.3"
  }
 },
 "nbformat": 4,
 "nbformat_minor": 2
}
